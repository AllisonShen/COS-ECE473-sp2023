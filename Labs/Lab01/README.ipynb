{
 "cells": [
  {
   "cell_type": "markdown",
   "id": "803c423f",
   "metadata": {},
   "source": [
    "# Objectives of this lab\n",
    "\n",
    "In this lab, we would :\n",
    "- Have you setup the in-browser wallet MetaMask\n",
    "- Learn about seed phrases, private keys, public keys, wallet address while doing so interactively\n",
    "- Show how to find your wallet address, send/receiver tokens, and track those transactions through chain watchers"
   ]
  },
  {
   "cell_type": "markdown",
   "id": "2f0b0dcd",
   "metadata": {},
   "source": [
    "# Setup MetaMask\n",
    "\n",
    "\n",
    "- Open your web browser and go to the [MetaMask website](https://metamask.io/).\n",
    "\n",
    "- Click the \"Download for\" button to install the MetaMask extension for your browser.\n",
    "\n",
    "- Follow the prompts to install the extension. Once it is installed, you will see the MetaMask icon appear in the top right corner of your browser.\n",
    "\n",
    "- Click on the MetaMask icon to open the extension. After you agree to their terms, you will be prompted to create a new wallet or import an existing one. For this lab, we will create a new wallet.\n",
    "\n",
    "- Click \"Create a Wallet\". You will be asked to create a password for your wallet. Choose a strong, unique password and make sure to remember it.\n",
    "\n",
    "- MetaMask will then generate a \"secret recovery phrase\" for you. This phrase is a series of words that can be used to restore your wallet if you ever lose access to it. It is important to keep this safe and secure, as anyone who has access to it will be able to access your wallet.\n",
    "\n",
    "- Write down the phrase and store it in a safe place. You will be asked to confirm that you have written it down by selecting the words in the correct order.\n",
    "\n",
    "- Once you have written down and confirmed your seed phrase, you will be taken to the main MetaMask screen. Here, you will see your \"account address\", which is a long hexadecimal string that serves as your unique wallet address. This is the address that you will use to receive tokens."
   ]
  },
  {
   "cell_type": "markdown",
   "id": "5813dc8b",
   "metadata": {},
   "source": [
    "# Connect to the Goerli testnet\n",
    "\n",
    "- Next, we will connect MetaMask to the Goerli testnet. In the top left corner of the MetaMask screen, click on the current network (it should say \"Ethereum Mainnet\"). A dropdown menu will appear.\n",
    "\n",
    "- From the dropdown menu, go to the \"Show/Hide testnet\" settings and enable it to show testnets.\n",
    "\n",
    "- Go back to the dropdown menu, and select \"[Goerli Testnet](https://goerli.net/)\""
   ]
  },
  {
   "cell_type": "markdown",
   "id": "15a03b55",
   "metadata": {},
   "source": [
    "# Get ETH tokens\n",
    "\n",
    "- Now, we get ETH tokens from the [Goerli faucet](https://goerlifaucet.com/).\n",
    "\n",
    "- Go to the linked website and make a free [Alchemy](https://www.alchemy.com/) account.\n",
    "\n",
    "- Enter your MetaMask address into the faucet and obtain the tokens. You should see the updated balance reflected in your wallet after a few seconds."
   ]
  },
  {
   "cell_type": "markdown",
   "id": "a30c2b0f",
   "metadata": {},
   "source": [
    "# Sending tokens\n",
    "\n",
    "- To test that everything is working, we will send some test tokens to other wallets. \n",
    "\n",
    "- To send tokens, click on the \"Send\" button. Enter the recipient's wallet address and the amount of tokens you want to send. The recipient can be the person sitting next to you. Alternatively, you can create another MetaMask address through the \"Create Account\" option you get after clicking the logo in the right hand corner of the MetaMask wallet.\n",
    "\n",
    "- Click \"Send\". MetaMask will prompt you to confirm the transaction. Click \"Confirm\" to complete the transaction."
   ]
  },
  {
   "cell_type": "markdown",
   "id": "8bfdda02",
   "metadata": {},
   "source": [
    "# Tracking transactions\n",
    "\n",
    "- Go to the [Etherscan](https://goerli.etherscan.io/) website.\n",
    "\n",
    "- In the search field, enter the transaction hash for the send transaction you want to track. \n",
    "\n",
    "- You can find the transaction hash in the \"Activity\" tab in your MetaMask.\n",
    "\n",
    "- Click \"Search\". Etherscan will display the details of the transaction, including the amount of tokens sent, the sender's and recipient's wallet addresses, and the status of the transaction.\n"
   ]
  },
  {
   "cell_type": "markdown",
   "id": "539bde6f",
   "metadata": {},
   "source": [
    "No coding is required for this lab\n"
   ]
  }
 ],
 "metadata": {
  "kernelspec": {
   "display_name": "Python 3",
   "language": "python",
   "name": "python3"
  },
  "language_info": {
   "codemirror_mode": {
    "name": "ipython",
    "version": 3
   },
   "file_extension": ".py",
   "mimetype": "text/x-python",
   "name": "python",
   "nbconvert_exporter": "python",
   "pygments_lexer": "ipython3",
   "version": "3.8.8"
  }
 },
 "nbformat": 4,
 "nbformat_minor": 5
}
