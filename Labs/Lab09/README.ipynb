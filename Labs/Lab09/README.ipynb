{
 "cells": [
  {
   "attachments": {},
   "cell_type": "markdown",
   "id": "18b94ab8",
   "metadata": {},
   "source": [
    "# Objective\n",
    "\n",
    "- Explain MEV through transactions in the wild \n",
    "- Discuss atomic arbitrage\n",
    "- Submit bundles to flashbots\n",
    "\n",
    "# GUI interaction\n",
    "\n",
    "- Go to MEV explore [here](https://explore.flashbots.net/)\n",
    "- Mostly covers arbitrage and liquidations, does not cover multi-tx MEV such as a sandwich attack\n",
    "\n",
    "The folowing are some examples of MEV transactions.\n",
    "\n",
    "## Arbitrage transaction\n",
    "Exploiting price differences to make riskless profit – is usually benign.\n",
    "\n",
    "- Search two or more exchanges with difference in asset prices\n",
    "- Trade asset between them to gain tokens in the numeraire\n",
    "- Consider an example of an arbitrage transaction [here](https://etherscan.io/tx/0xb55d4267a3565fdc8bada2638f97ed0bb31aa40bf8d4b304086dbdc1ca7d7844`)\n",
    "\n",
    "## Liquidation transaction \n",
    "Like \"margin calls\" in traditional finance. Here, the miner spots lending positions that are underwater and liquidates them to earn a commission. Liquidation involves notifying the lending protocol that a the value of \"collateral\" posted by borrower has fallen. This makes the protocol take possession of the collateral and give a commission to the liquidator.\n",
    "\n",
    "An example of a liquidation is shown [here](https://etherscan.io/tx/0xd70b42daec5bb9ac6e5df3d25d309f186db50df701f667e1f20b22448ea27d41).\n",
    "\n",
    "## Sandwich transaction\n",
    "Sandwiching is the act introducing transactions before and after user swaps to earn risk-free profit. Frontrunning (insertion before) is bad for the user and malicious. Backrunning (insertion after) is benign since it does not give anyone a worse price and stabilizes market.\n",
    "\n",
    "- Frontrun a transaction to buy asset for cheap\n",
    "- Let transactions incur\n",
    "- Sell back to the original asset\n",
    "- Consider the transactions for a multilayered sandwich [here](https://etherscan.io/txs?block=12775690&p=3) - courtesy @bertcmiller\n",
    "![](img/multi_layered_sandwich1.png)\n",
    "\n",
    "## JIT liquidity transaction\n",
    "\n",
    "- Search for high value transaction\n",
    "- Provide liquidity right before that transaction\n",
    "- Earn fees\n",
    "- Withdraw liquidity post the trade\n",
    "- Consider the transactions for a JIT liquidity transaction [here](https://etherscan.io/txs?block=13601096&p=6) - courtesy @bertcmiller\n",
    "![](img/JIT_liquidity1.png)"
   ]
  },
  {
   "cell_type": "markdown",
   "id": "0611c866",
   "metadata": {},
   "source": [
    "# Recall : Flashbots\n",
    "\n",
    "Flashbots is a research and development organization that focuses on mitigating the negative impacts of MEV in DeFi networks, particularly on the Ethereum network. In particular, it started off by pointing out how MEV is a centralizing force in DeFi and proposed several products that are used by Ethereum nodes today to mitigate MEV.\n",
    "\n",
    "They have developed a framework that allows users to send transaction bundles directly to miners through a \"MEV-geth\" node instead of submitting them to the open transaction pool, where they could be front-run or back-run. Miners can then extract the MEV from these transaction bundles without disrupting the overall network. Flashbots also provides a suite of tools and resources for developers and researchers to better understand and analyze MEV-related issues in DeFi.\n",
    "\n",
    "## Downsides of priority gas auctions : example\n",
    "\n",
    "[A 3-hop arbitrage]((https://etherscan.io/tx/0x2bde6e654eb93c990ae5b50a75ce66ef89ea77fb05836d7f347a8409f141599f)) between the 3 liquidity pools Balancer ETH/USDC, Sushiswap USDC/SIL and Sushiswap SIL/ETH that paid 12 ETH (USD 14.1k at the time) in gas fees and worth 16.7 ETH (USD 19.6k at the time) of Extracted MEV.\n",
    "\n",
    "The high transaction fee hints at the fact that the sender iteratively bid up the gas price of their arbitrage transaction by replacing their existing trade before it gets mined with one with the same nonce but a higher gas price in order to compete with other traders going for the same opportunity. \n",
    "\n",
    "[One loser of the gas auction landed here](https://etherscan.io/tx/0x1ff41966cc02a4d8f6f1d80a6f49851e710b743d7c0ed143498608c0f421ec28) for a loss of 1.18 ETH. The winning transaction above ended up paying a gas price of 51.6k gwei, 547x higher than the average gas price at the time (94 gwei), but only 2x higher than the loser at 27.6k gwei.\n",
    "\n",
    "- Extracted MEV breakdown for tx 1 - 4.7 ETH (USD 5.5k at the time) for the sender, 12 ETH (USD 14.1k at the time) for F2Pool, the miner of this block.\n",
    "- Extracted MEV breakdown for tx 2 - 1.18 ETH (USD 1.4k at the time) for F2Pool, the miner of this block."
   ]
  },
  {
   "cell_type": "markdown",
   "id": "8e524be0",
   "metadata": {},
   "source": [
    "# Setup for flashbot bundles\n",
    "\n",
    "- Create keypair for flashbot account\n",
    "- Connect to flashbots RPC endpoint (may not be required based on the implementation)"
   ]
  },
  {
   "cell_type": "markdown",
   "id": "9ec58a15",
   "metadata": {},
   "source": [
    "Flashbots Provider Setup"
   ]
  },
  {
   "cell_type": "code",
   "execution_count": 1,
   "id": "2676f2b9",
   "metadata": {},
   "outputs": [],
   "source": [
    "# Set up a pipeline to create a bundle to send through flashbots\n",
    "# Check references for flashbots here: https://docs.flashbots.net/flashbots-auction/searchers/quick-start\n",
    "# Check references for eth_account here: https://readthedocs.org/projects/eth-account/downloads/pdf/latest/\n",
    "import os\n",
    "import secrets\n",
    "from uuid import uuid4\n",
    "from web3 import Web3, HTTPProvider\n",
    "from eth_account import Account \n",
    "from eth_account.signers.local import LocalAccount\n",
    "from flashbots import flashbot\n",
    "from web3.exceptions import TransactionNotFound\n",
    "from web3.types import TxParams\n",
    "\n",
    "# Create a web3 object with a standard json rpc provider, such as Infura, Alchemy, or your own node.\n",
    "w3 = Web3(HTTPProvider(\"https://goerli.infura.io/v3/b4b9447601b347db89df8a4993ad51a0\"))\n",
    "\n",
    "# signer is an Ethereum private key that does NOT store funds and is NOT your bot's primary key.\n",
    "# This is an identifying key for signing payloads to establish reputation and whitelisting\n",
    "os.environ['ETH_SIGNATURE_KEY'] = '0x' + secrets.token_hex(32)\n",
    "signer: LocalAccount = Account.from_key(os.environ.get('ETH_SIGNATURE_KEY'))\n",
    "\n",
    "# Flashbots providers require both a standard provider and ETH_ACCOUNT_SIGNATURE (to establish reputation)\n",
    "flashbot(w3, signer, \"https://relay-goerli.flashbots.net\")"
   ]
  },
  {
   "cell_type": "markdown",
   "id": "0c77a38a",
   "metadata": {},
   "source": [
    "Generate a Transaction Bundle"
   ]
  },
  {
   "cell_type": "code",
   "execution_count": 3,
   "id": "16776093",
   "metadata": {},
   "outputs": [
    {
     "name": "stdout",
     "output_type": "stream",
     "text": [
      "sender address 0x339D871eee01FABeEd6Ea3012842742d74f67977\n",
      "receiver address 0xBc78d8eC1BD95E762581ab4Bb293ed91b843052A\n"
     ]
    }
   ],
   "source": [
    "# generate a random sender and receiver\n",
    "os.environ['ETH_SENDER_KEY']  = 'YOUR_PRIVATE_KEY'\n",
    "os.environ['ETH_RECEIVER_KEY'] =  '0x' + secrets.token_hex(32)\n",
    "sender: LocalAccount = Account.from_key(os.environ.get('ETH_SENDER_KEY'))\n",
    "receiver = Account.from_key(os.environ.get('ETH_RECEIVER_KEY')).address\n",
    "print(\"sender address\", sender.address)\n",
    "print(\"receiver address\", receiver)\n",
    "\n",
    "# generate a transaction bundle with single or multiple transactions\n",
    "nonce = w3.eth.get_transaction_count(sender.address)\n",
    "tx1: TxParams = {\n",
    "    \"to\": receiver,\n",
    "    \"value\": Web3.toWei(0.001, \"ether\"),\n",
    "    \"gas\": 21000,\n",
    "    \"maxFeePerGas\": Web3.toWei(200, \"gwei\"),\n",
    "    \"maxPriorityFeePerGas\": Web3.toWei(50, \"gwei\"),\n",
    "    \"nonce\": nonce,\n",
    "    \"chainId\": 5, # Goerli testnet chain id\n",
    "    \"type\": 2,\n",
    "}\n",
    "\n",
    "tx1_signed = sender.sign_transaction(tx1)\n",
    "\n",
    "tx2: TxParams = {\n",
    "    \"to\": receiver,\n",
    "    \"value\": Web3.toWei(0.001, \"ether\"),\n",
    "    \"gas\": 21000,\n",
    "    \"maxFeePerGas\": Web3.toWei(200, \"gwei\"),\n",
    "    \"maxPriorityFeePerGas\": Web3.toWei(50, \"gwei\"),\n",
    "    \"nonce\": nonce + 1,\n",
    "    \"chainId\": 5, # Goerli testnet chain id\n",
    "    \"type\": 2,\n",
    "}\n",
    "\n",
    "SINGLE_TX = False\n",
    "if SINGLE_TX:\n",
    "    bundle = [{\"signed_transaction\": tx1_signed.rawTransaction}]\n",
    "else:\n",
    "    bundle = [\n",
    "        {\"signed_transaction\": tx1_signed.rawTransaction},\n",
    "        {\"signer\": sender, \"transaction\": tx2},\n",
    "    ]\n"
   ]
  },
  {
   "cell_type": "markdown",
   "id": "a9b1d104",
   "metadata": {},
   "source": [
    "Send the Transaction Bundle to Flashbots Relayer"
   ]
  },
  {
   "cell_type": "code",
   "execution_count": 4,
   "id": "0cc9ef73",
   "metadata": {
    "scrolled": false
   },
   "outputs": [
    {
     "name": "stdout",
     "output_type": "stream",
     "text": [
      "Simulating on block 8577932\n",
      "Simulation successful.\n",
      "Sending bundle targeting block 8577933\n",
      "replacementUuid f9e0f161-091c-4f5f-a4d9-38fb8ffeca48\n",
      "bundleHash 0xe6ad38c0949b0946f38f715bb1d4b515249e321d640298a332aa77245b048d65\n",
      "bundleStats v1 AttributeDict({'isSimulated': False})\n",
      "bundleStats v2 AttributeDict({'isSimulated': False})\n",
      "Bundle not found in block 8577933\n",
      "canceled {'bundleHashes': ['0xe6ad38c0949b0946f38f715bb1d4b515249e321d640298a332aa77245b048d65']}\n",
      "Simulating on block 8577933\n",
      "Simulation successful.\n",
      "Sending bundle targeting block 8577934\n",
      "replacementUuid 312c89c1-8b2e-45dc-9bdd-301ff368013c\n",
      "bundleHash 0xe6ad38c0949b0946f38f715bb1d4b515249e321d640298a332aa77245b048d65\n",
      "bundleStats v1 AttributeDict({'isHighPriority': True, 'isSentToMiners': False, 'isSimulated': True, 'simulatedAt': '2023-03-01T12:51:36.314Z', 'submittedAt': '2023-03-01T12:51:36.309Z', 'consideredByBuildersAt': [AttributeDict({'pubkey': '0xa1dead01e65f0a0eee7b5170223f20c8f0cbf122eac3324d61afbdb33a8885ff8cab2ef514ac2c7698ae0d6289ef27fc', 'timestamp': '2023-03-01T12:51:39.141Z'}), AttributeDict({'pubkey': '0xa1dead01e65f0a0eee7b5170223f20c8f0cbf122eac3324d61afbdb33a8885ff8cab2ef514ac2c7698ae0d6289ef27fc', 'timestamp': '2023-03-01T12:51:36.761Z'}), AttributeDict({'pubkey': '0xb67a5148a03229926e34b190af81a82a81c4df66831c98c03a139778418dd09a3b542ced0022620d19f35781ece6dc36', 'timestamp': '2023-03-01T12:51:36.747Z'})], 'sealedByBuildersAt': [AttributeDict({'pubkey': '0xa1dead01e65f0a0eee7b5170223f20c8f0cbf122eac3324d61afbdb33a8885ff8cab2ef514ac2c7698ae0d6289ef27fc', 'timestamp': '2023-03-01T12:51:39.16Z'}), AttributeDict({'pubkey': '0xa1dead01e65f0a0eee7b5170223f20c8f0cbf122eac3324d61afbdb33a8885ff8cab2ef514ac2c7698ae0d6289ef27fc', 'timestamp': '2023-03-01T12:51:36.801Z'}), AttributeDict({'pubkey': '0xb67a5148a03229926e34b190af81a82a81c4df66831c98c03a139778418dd09a3b542ced0022620d19f35781ece6dc36', 'timestamp': '2023-03-01T12:51:36.782Z'})]})\n",
      "bundleStats v2 AttributeDict({'isSimulated': True, 'isHighPriority': True, 'simulatedAt': '2023-03-01T12:51:36.314Z', 'receivedAt': '2023-03-01T12:51:36.309Z', 'consideredByBuildersAt': [AttributeDict({'pubkey': '0xa1dead01e65f0a0eee7b5170223f20c8f0cbf122eac3324d61afbdb33a8885ff8cab2ef514ac2c7698ae0d6289ef27fc', 'timestamp': '2023-03-01T12:51:39.141Z'}), AttributeDict({'pubkey': '0xa1dead01e65f0a0eee7b5170223f20c8f0cbf122eac3324d61afbdb33a8885ff8cab2ef514ac2c7698ae0d6289ef27fc', 'timestamp': '2023-03-01T12:51:36.761Z'}), AttributeDict({'pubkey': '0xb67a5148a03229926e34b190af81a82a81c4df66831c98c03a139778418dd09a3b542ced0022620d19f35781ece6dc36', 'timestamp': '2023-03-01T12:51:36.747Z'})], 'sealedByBuildersAt': [AttributeDict({'pubkey': '0xa1dead01e65f0a0eee7b5170223f20c8f0cbf122eac3324d61afbdb33a8885ff8cab2ef514ac2c7698ae0d6289ef27fc', 'timestamp': '2023-03-01T12:51:39.16Z'}), AttributeDict({'pubkey': '0xa1dead01e65f0a0eee7b5170223f20c8f0cbf122eac3324d61afbdb33a8885ff8cab2ef514ac2c7698ae0d6289ef27fc', 'timestamp': '2023-03-01T12:51:36.801Z'}), AttributeDict({'pubkey': '0xb67a5148a03229926e34b190af81a82a81c4df66831c98c03a139778418dd09a3b542ced0022620d19f35781ece6dc36', 'timestamp': '2023-03-01T12:51:36.782Z'})]})\n",
      "\n",
      "Bundle was mined in block 8577934\u0007\n",
      "Sender account balance: 0.715779195688439011 ETH\n",
      "Receiver account balance: 0.002 ETH\n"
     ]
    }
   ],
   "source": [
    "# keep trying to send bundle until it gets mined\n",
    "while True:\n",
    "    block = w3.eth.block_number\n",
    "    print(f\"Simulating on block {block}\")\n",
    "    # simulate bundle on current block\n",
    "    try:\n",
    "        w3.flashbots.simulate(bundle, block)\n",
    "        print(\"Simulation successful.\")\n",
    "    except Exception as e:\n",
    "        print(\"Simulation error\", e)\n",
    "        break \n",
    "    # send bundle targeting next block\n",
    "    print(f\"Sending bundle targeting block {block+1}\")\n",
    "    replacement_uuid = str(uuid4()) # generates a random unique ID\n",
    "    print(f\"replacementUuid {replacement_uuid}\")\n",
    "    # or send_bundle_munger\n",
    "    send_result = w3.flashbots.send_bundle( \n",
    "        bundle,\n",
    "        target_block_number=block + 1,\n",
    "        opts={\"replacementUuid\": replacement_uuid},\n",
    "    )\n",
    "    print(\"bundleHash\", w3.toHex(send_result.bundle_hash()))\n",
    "\n",
    "    stats_v1 = w3.flashbots.get_bundle_stats(\n",
    "        w3.toHex(send_result.bundle_hash()), block\n",
    "    )\n",
    "    print(\"bundleStats v1\", stats_v1)\n",
    "\n",
    "    stats_v2 = w3.flashbots.get_bundle_stats_v2(\n",
    "        w3.toHex(send_result.bundle_hash()), block\n",
    "    )\n",
    "    print(\"bundleStats v2\", stats_v2)\n",
    "\n",
    "    send_result.wait()\n",
    "    try:\n",
    "        receipts = send_result.receipts()\n",
    "        print(f\"\\nBundle was mined in block {receipts[0].blockNumber}\\a\")\n",
    "        break\n",
    "    except TransactionNotFound:\n",
    "        print(f\"Bundle not found in block {block+1}\")\n",
    "        # essentially a no-op but it shows that the function works\n",
    "        cancel_res = w3.flashbots.cancel_bundles(replacement_uuid)\n",
    "        print(f\"canceled {cancel_res}\")\n",
    "\n",
    "print(\n",
    "    f\"Sender account balance: {Web3.fromWei(w3.eth.get_balance(sender.address), 'ether')} ETH\"\n",
    ")\n",
    "print(\n",
    "    f\"Receiver account balance: {Web3.fromWei(w3.eth.get_balance(receiver), 'ether')} ETH\"\n",
    ")"
   ]
  },
  {
   "cell_type": "markdown",
   "id": "8fcf178a",
   "metadata": {},
   "source": [
    "# Additional reading\n",
    "\n",
    "- Check out a nice explanation of sniping MEV exploits [here](https://www.samchepal.com/the-hidden-world-of/)"
   ]
  }
 ],
 "metadata": {
  "kernelspec": {
   "display_name": "Python 3 (ipykernel)",
   "language": "python",
   "name": "python3"
  },
  "language_info": {
   "codemirror_mode": {
    "name": "ipython",
    "version": 3
   },
   "file_extension": ".py",
   "mimetype": "text/x-python",
   "name": "python",
   "nbconvert_exporter": "python",
   "pygments_lexer": "ipython3",
   "version": "3.9.15"
  }
 },
 "nbformat": 4,
 "nbformat_minor": 5
}
