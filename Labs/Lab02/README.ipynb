{
 "cells": [
  {
   "cell_type": "markdown",
   "id": "61ed042f",
   "metadata": {},
   "source": [
    "# Objectives \n",
    "\n",
    "- Familiarization with smart contarcts \n",
    "- Familiarize and set up web3 library and wallet APIs \n",
    "- Interacting with an ERC20 token\n",
    "\n",
    "# Walkthrough smart contract\n",
    "\n",
    "We have deployed smart contracts for the ERC20 tokens on the Goerli testnet. The contracts can be found on etherscan [here](https://goerli.etherscan.io/address/0x4966bb6cd9f3e042331b0798525b7970efb0d94a). Let us now go through the contract and describe what each ```function``` does."
   ]
  },
  {
   "cell_type": "markdown",
   "id": "85c31293",
   "metadata": {},
   "source": [
    "### What does ```balanceOf``` and ```totalSupply``` do?"
   ]
  },
  {
   "cell_type": "markdown",
   "id": "3219d366",
   "metadata": {},
   "source": [
    "### What does ```transfer``` and ```transferFrom``` do ? Which of them needs one to run ```approve``` before it executes correctly ?"
   ]
  },
  {
   "cell_type": "markdown",
   "id": "480a12d5",
   "metadata": {},
   "source": [
    "### What events can be emitted by the contract ? [What is their use](https://consensys.net/blog/developers/guide-to-events-and-logs-in-ethereum-smart-contracts/) ? "
   ]
  },
  {
   "cell_type": "markdown",
   "id": "68bf8ab5",
   "metadata": {},
   "source": [
    "### How does the contract respond to airdrop requests ?"
   ]
  },
  {
   "cell_type": "markdown",
   "id": "2653816a",
   "metadata": {},
   "source": [
    "# Requesting tokens\n",
    "\n",
    "To request the tokens we shall be using in the future for some in-class labs, we are going to use the ```web3``` library in python. The installation instructions can be found [here](https://web3py.readthedocs.io/en/v5/quickstart.html). We will view our transactions on the [Goerli testnet etherscan](https://goerli.etherscan.io/). \n",
    "\n",
    "We now send a transaction that uses this API to *airdrop* some tokens to the faucet. The faucet allows each registered wallet to redeem a fixed number of tokens per day. The code used to do that has to be written below.\n",
    "\n",
    "First, we connect your wallet to the web3 API."
   ]
  },
  {
   "cell_type": "code",
   "execution_count": 1,
   "id": "f31fc1f5",
   "metadata": {},
   "outputs": [],
   "source": [
    "# Import web3\n",
    " \n",
    "# Connect wallet\n",
    "\n"
   ]
  },
  {
   "cell_type": "markdown",
   "id": "368012e5",
   "metadata": {},
   "source": [
    "Now, we send a request transaction to the faucet, signed by your private key."
   ]
  },
  {
   "cell_type": "code",
   "execution_count": 2,
   "id": "c089ce13",
   "metadata": {},
   "outputs": [],
   "source": [
    "# Define the LabFaucet contract to connect to\n",
    "# Create transaction data to request LETH\n",
    "# Post transaction"
   ]
  },
  {
   "cell_type": "markdown",
   "id": "54a3d804",
   "metadata": {},
   "source": [
    "## Alternate: Request tokens through Etherscan\n",
    "\n",
    "Verified contracts on Etherscan allow you to interact with functions on the contract.\n",
    "Open the LabFaucet contract by prociding it's address. You can now access the contract's read and write functions.\n",
    "Go to the ``write tab``, connect your metamask wallet and call the ``requestTokens`` function by providing your wallet's public address and the LabUSD token's contract address. Confirm the transaciton on the metamask prompt."
   ]
  },
  {
   "cell_type": "markdown",
   "id": "6b81be27",
   "metadata": {},
   "source": [
    "# Add to MetaMask"
   ]
  },
  {
   "cell_type": "markdown",
   "id": "c6a1de90",
   "metadata": {},
   "source": [
    "- The token balances can now be tracked via MetaMask using the contract addresses of each token. \n",
    "- Use the \"Import Tokens\" link at the bottom of your MetaMask. \n",
    "- Enter the smart contract address for an ERC20 tokens we would be using in the class.\n",
    "- Do this for each of the tokens - LabETH and LabUSD"
   ]
  }
 ],
 "metadata": {
  "kernelspec": {
   "display_name": "Python 3",
   "language": "python",
   "name": "python3"
  },
  "language_info": {
   "codemirror_mode": {
    "name": "ipython",
    "version": 3
   },
   "file_extension": ".py",
   "mimetype": "text/x-python",
   "name": "python",
   "nbconvert_exporter": "python",
   "pygments_lexer": "ipython3",
   "version": "3.8.8"
  }
 },
 "nbformat": 4,
 "nbformat_minor": 5
}
