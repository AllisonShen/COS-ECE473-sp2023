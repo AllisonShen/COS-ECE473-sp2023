{
 "cells": [
  {
   "cell_type": "markdown",
   "id": "61ed042f",
   "metadata": {},
   "source": [
    "# Objectives \n",
    "\n",
    "- Familiarization with smart contarcts \n",
    "- Familiarize and set up web3 library and wallet APIs \n",
    "- Interacting with an ERC20 token\n",
    "\n",
    "# Walkthrough smart contract\n",
    "\n",
    "We have deployed smart contracts for the ERC20 tokens on the Goerli testnet. The contracts can be found on etherscan [here](https://goerli.etherscan.io/address/0x4966bb6cd9f3e042331b0798525b7970efb0d94a). Let us now go through the contract and describe what each ```function``` does."
   ]
  },
  {
   "cell_type": "markdown",
   "id": "85c31293",
   "metadata": {},
   "source": [
    "### What does ```balanceOf``` and ```totalSupply``` do?"
   ]
  },
  {
   "cell_type": "markdown",
   "id": "3219d366",
   "metadata": {},
   "source": [
    "### What does ```transfer``` and ```transferFrom``` do ? Which of them needs one to run ```approve``` before it executes correctly ?"
   ]
  },
  {
   "cell_type": "markdown",
   "id": "480a12d5",
   "metadata": {},
   "source": [
    "### What events can be emitted by the contract ? [What is their use](https://consensys.net/blog/developers/guide-to-events-and-logs-in-ethereum-smart-contracts/) ? "
   ]
  },
  {
   "cell_type": "markdown",
   "id": "68bf8ab5",
   "metadata": {},
   "source": [
    "### How does the contract respond to airdrop requests ?"
   ]
  },
  {
   "cell_type": "markdown",
   "id": "2653816a",
   "metadata": {},
   "source": [
    "# Requesting tokens\n",
    "\n",
    "To request the tokens we shall be using in the future for some in-class labs, we are going to use the ```web3``` library in python. The installation instructions can be found [here](https://web3py.readthedocs.io/en/v5/quickstart.html). We will view our transactions on the [Goerli testnet etherscan](https://goerli.etherscan.io/). \n",
    "\n",
    "We now send a transaction that uses this API to *airdrop* some tokens to the faucet. The faucet allows each registered wallet to redeem a fixed number of tokens per day. The code used to do that has to be written below.\n",
    "\n",
    "First, we connect your wallet to the web3 API."
   ]
  },
  {
   "cell_type": "code",
   "execution_count": 1,
   "id": "f31fc1f5",
   "metadata": {},
   "outputs": [
    {
     "name": "stdout",
     "output_type": "stream",
     "text": [
      "{'manager': <web3.manager.RequestManager object at 0x7f840978aa00>, 'codec': <eth_abi.codec.ABICodec object at 0x7f83e9069670>, 'eth': <web3.eth.Eth object at 0x7f83e9069730>, 'net': <web3.net.Net object at 0x7f83e90697f0>, 'version': <web3.version.Version object at 0x7f83e9069850>, 'parity': <web3.parity.Parity object at 0x7f83e90698b0>, 'geth': <web3.geth.Geth object at 0x7f83e9069940>, 'testing': <web3.testing.Testing object at 0x7f83e9069af0>, '_ens': <web3._utils.empty.Empty object at 0x7f8409de2eb0>}\n"
     ]
    }
   ],
   "source": [
    "# Import web3\n",
    "from web3 import Web3\n",
    "from datetime import datetime, timedelta\n",
    "\n",
    "w3 = Web3(Web3.HTTPProvider('https://goerli.infura.io/v3/put-your-infura-key-here'))\n",
    "\n",
    "print(w3.__dict__)\n",
    " \n",
    "# Wallet details\n",
    "\n",
    "public_address = Web3.toChecksumAddress('Your-address')\n",
    "private_key = 'Your-private-key'\n"
   ]
  },
  {
   "cell_type": "markdown",
   "id": "368012e5",
   "metadata": {},
   "source": [
    "Now, we send a request transaction to the faucet, signed by your private key."
   ]
  },
  {
   "cell_type": "code",
   "execution_count": null,
   "id": "698888f4",
   "metadata": {},
   "outputs": [],
   "source": [
    "# Define the LabFaucet contract to connect to\n",
    "\n",
    "contract_addr = Web3.toChecksumAddress('Put the faucet contract address here')\n",
    "abi_contract = 'Paste ABI of the faucet contract here from etherscan'\n",
    "contract = w3.eth.contract(contract_addr, abi=abi_contract)\n",
    "\n",
    "# Define the address of the ERC20 token you want\n",
    "\n",
    "token_addr = Web3.toChecksumAddress('Put address of the token you want here')"
   ]
  },
  {
   "cell_type": "code",
   "execution_count": null,
   "id": "8c4473b7",
   "metadata": {},
   "outputs": [],
   "source": [
    "# Create transaction data to request LETH\n",
    "\n",
    "txn = contract.functions.requestTokens(token_addr).build_transaction(\n",
    "    {\n",
    "        'nonce':w3.eth.getTransactionCount(public_address),\n",
    "        'from':public_address,\n",
    "    }\n",
    ")"
   ]
  },
  {
   "cell_type": "code",
   "execution_count": 4,
   "id": "c089ce13",
   "metadata": {},
   "outputs": [
    {
     "name": "stdout",
     "output_type": "stream",
     "text": [
      "Hash of swap transaction :  0xcfa070b83ebf4b817e50a5c5b324941d7de3477482e3dd8540d4d43d19190106\n"
     ]
    }
   ],
   "source": [
    "# Post transaction\n",
    "\n",
    "signed_txn = w3.eth.account.signTransaction(txn, private_key) # Sign the txn with your private key \n",
    "txn_hash = w3.eth.sendRawTransaction(signed_txn.rawTransaction) # Send it onto the chain\n",
    "print(\"Hash of swap transaction : \",w3.toHex(txn_hash)) # Search the txn hash on etherscan to see if it got confirmed"
   ]
  },
  {
   "cell_type": "markdown",
   "id": "54a3d804",
   "metadata": {},
   "source": [
    "## Alternate: Request tokens through Etherscan\n",
    "\n",
    "Verified contracts on Etherscan allow you to interact with functions on the contract.\n",
    "Open the LabFaucet contract by prociding it's address. You can now access the contract's read and write functions.\n",
    "Go to the ``write tab``, connect your metamask wallet and call the ``requestTokens`` function by providing your wallet's public address and the LabUSD token's contract address. Confirm the transaciton on the metamask prompt."
   ]
  },
  {
   "cell_type": "markdown",
   "id": "6b81be27",
   "metadata": {},
   "source": [
    "# Add to MetaMask"
   ]
  },
  {
   "cell_type": "markdown",
   "id": "c6a1de90",
   "metadata": {},
   "source": [
    "- The token balances can now be tracked via MetaMask using the contract addresses of each token. \n",
    "- Use the \"Import Tokens\" link at the bottom of your MetaMask. \n",
    "- Enter the smart contract address for an ERC20 tokens we would be using in the class.\n",
    "- Do this for each of the tokens - LabETH and LabUSD"
   ]
  }
 ],
 "metadata": {
  "kernelspec": {
   "display_name": "Python 3 (ipykernel)",
   "language": "python",
   "name": "python3"
  },
  "language_info": {
   "codemirror_mode": {
    "name": "ipython",
    "version": 3
   },
   "file_extension": ".py",
   "mimetype": "text/x-python",
   "name": "python",
   "nbconvert_exporter": "python",
   "pygments_lexer": "ipython3",
   "version": "3.9.15"
  }
 },
 "nbformat": 4,
 "nbformat_minor": 5
}
